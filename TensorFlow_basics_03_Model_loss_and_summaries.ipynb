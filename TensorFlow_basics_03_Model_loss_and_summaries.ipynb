{
 "cells": [
  {
   "cell_type": "code",
   "execution_count": 1,
   "metadata": {
    "collapsed": true
   },
   "outputs": [
    {
     "data": {
      "text/plain": [
       "'1.13.0'"
      ]
     },
     "execution_count": 1,
     "metadata": {},
     "output_type": "execute_result"
    }
   ],
   "source": [
    "from GeneralTools.misc_fun import FLAGS\n",
    "\n",
    "FLAGS.TENSORFLOW_VERSION\n"
   ]
  },
  {
   "cell_type": "code",
   "execution_count": 9,
   "metadata": {},
   "outputs": [
    {
     "name": "stdout",
     "output_type": "stream",
     "text": [
      "The name/operation of a1 is 'const_a1:0'\nThe name/operation of b1 is 'var_b1:0'\nThe name/operation of c1 is 'op_1:0'\n------\nThe name/operation of a2 is 'layer01/const_a2:0'\nThe name/operation of b2 is 'layer01/var_b2:0'\nThe name/operation of c2 is 'layer01/op_2:0'\n------\nThe name/operation of a3 is 'layer02/const_a3:0'\nThe name/operation of b3 is 'var_b3:0'\nThe name/operation of c3 is 'layer02/op_3:0'\n"
     ]
    }
   ],
   "source": [
    "import tensorflow as tf\n",
    "\"\"\"\n",
    "Scope - continue\n",
    "\n",
    "tf.variable_scope vs tf.name_scope\n",
    " -- variable_scope applies to constants, variables and operations\n",
    " -- name_scope applies to constants and operations, but not variables\n",
    "\"\"\"\n",
    "\n",
    "with tf.Graph().as_default():\n",
    "    a1 = tf.constant(0.1, name='const_a1')\n",
    "    b1 = tf.get_variable(\n",
    "        name='var_b1', dtype=tf.float32, \n",
    "        initializer=a1)\n",
    "    c1 = tf.multiply(a1, b1, name='op_1')\n",
    "\n",
    "    with tf.variable_scope('layer01'):\n",
    "        # variable scope applies to constants, variables and operations\n",
    "        a2 = tf.constant(0.1, name='const_a2')\n",
    "        b2 = tf.get_variable(\n",
    "            name='var_b2', dtype=tf.float32, \n",
    "            initializer=a1)  # initializer could be a1, b1, a2\n",
    "        c2 = tf.multiply(a2, b2, name='op_2')\n",
    "        \n",
    "    with tf.name_scope('layer02'):\n",
    "        # name scope applies to constants and operations\n",
    "        a3 = tf.constant(0.1, name='const_a3')\n",
    "        # name scope does not apply to variables\n",
    "        b3 = tf.get_variable(\n",
    "            name='var_b3', dtype=tf.float32, \n",
    "            initializer=a1)  # initialize could be a1, b1, a2, b2, a3\n",
    "        c3 = tf.multiply(a3, b3, name='op_3')\n",
    "    \n",
    "print(\"The name/operation of a1 is '{}'\".format(a1.name))\n",
    "print(\"The name/operation of b1 is '{}'\".format(b1.name))\n",
    "print(\"The name/operation of c1 is '{}'\".format(c1.name))\n",
    "print('------')\n",
    "print(\"The name/operation of a2 is '{}'\".format(a2.name))\n",
    "print(\"The name/operation of b2 is '{}'\".format(b2.name))\n",
    "print(\"The name/operation of c2 is '{}'\".format(c2.name))\n",
    "print('------')\n",
    "print(\"The name/operation of a3 is '{}'\".format(a3.name))\n",
    "print(\"The name/operation of b3 is '{}'\".format(b3.name))\n",
    "print(\"The name/operation of c3 is '{}'\".format(c3.name))\n"
   ]
  },
  {
   "cell_type": "code",
   "execution_count": 2,
   "metadata": {
    "collapsed": true
   },
   "outputs": [
    {
     "name": "stdout",
     "output_type": "stream",
     "text": [
      "(tf.float32, tf.int32)\n(TensorShape([Dimension(28), Dimension(28)]), TensorShape([]))\nWARNING:tensorflow:From C:\\Users\\richa\\AppData\\Local\\conda\\conda\\envs\\py36\\lib\\site-packages\\tensorflow\\python\\data\\ops\\dataset_ops.py:1419: colocate_with (from tensorflow.python.framework.ops) is deprecated and will be removed in a future version.\nInstructions for updating:\nColocations handled automatically by placer.\n"
     ]
    },
    {
     "name": "stdout",
     "output_type": "stream",
     "text": [
      "Tensor(\"IteratorGetNext:0\", shape=(?, 28, 28), dtype=float32)\nTensor(\"IteratorGetNext:1\", shape=(?,), dtype=int32)\n"
     ]
    }
   ],
   "source": [
    "import tensorflow as tf\n",
    "from GeneralTools.my_input import DatasetFromTensor, create_placeholder\n",
    "\"\"\"\n",
    "Six-step workflow of data analysis:\n",
    "1. prepare data\n",
    "2. define the model\n",
    "3. define the loss function\n",
    "4. configure the optimizer\n",
    "5. configure the summary\n",
    "6. call a session\n",
    "\"\"\"\n",
    "\n",
    "with tf.Graph().as_default():\n",
    "    # load the data\n",
    "    (x_train, y_train), (x_test, y_test) = tf.keras.datasets.mnist.load_data()\n",
    "    data_tr = DatasetFromTensor(\n",
    "        (x_train, y_train), (tf.float32, tf.int32), \n",
    "        map_func=lambda x, y: (x/255.0, y),\n",
    "        name='TrainData').schedule(400)\n",
    "    xtr, ytr = data_tr.next()\n",
    "    \n",
    "    with tf.Session() as sess:\n",
    "        sess.run(tf.global_variables_initializer())\n",
    "        yv = sess.run(y)\n",
    "        print(yv.shape)\n"
   ]
  },
  {
   "cell_type": "code",
   "execution_count": 1,
   "metadata": {
    "collapsed": false
   },
   "outputs": [
    {
     "name": "stdout",
     "output_type": "stream",
     "text": [
      "WARNING:tensorflow:From C:\\Users\\richa\\AppData\\Local\\conda\\conda\\envs\\py36\\lib\\site-packages\\tensorflow\\python\\framework\\op_def_library.py:263: colocate_with (from tensorflow.python.framework.ops) is deprecated and will be removed in a future version.\nInstructions for updating:\nColocations handled automatically by placer.\n"
     ]
    },
    {
     "name": "stdout",
     "output_type": "stream",
     "text": [
      "(64, 11, 28, 28)\n"
     ]
    }
   ],
   "source": [
    "import tensorflow as tf\n",
    "from GeneralTools.my_model import SequentialNet\n",
    "\n",
    "with tf.Graph().as_default():\n",
    "    x = tf.random_normal((64, 28, 28))\n",
    "    \n",
    "    net_design = [{'name': 'l1', 'out': 33, 'op': 'c', 'in_reshape': (1, 28, 28)}, \n",
    "                  {'name': 'l2', 'out': 66, 'op': 'c', 'stride': 2}, \n",
    "                  {'name': 'l3', 'out': 11, 'op': 'c', 'stride': 2}]\n",
    "    mdl = SequentialNet(net_design, input_shape=[None, 28, 28], name='Conv')\n",
    "    \n",
    "    y = mdl(x)\n",
    "    \n",
    "    with tf.Session() as sess:\n",
    "        sess.run(tf.global_variables_initializer())\n",
    "        yv = sess.run(y)\n",
    "        print(yv.shape)\n"
   ]
  },
  {
   "cell_type": "code",
   "execution_count": 2,
   "metadata": {
    "collapsed": true
   },
   "outputs": [
    {
     "ename": "TypeError",
     "evalue": "The value of a feed cannot be a tf.Tensor object. Acceptable feed values include Python scalars, strings, lists, numpy ndarrays, or TensorHandles. For reference, the tensor object was Tensor(\"random_normal:0\", shape=(100, 3), dtype=float32) which was passed to the feed with key Tensor(\"Placeholder:0\", shape=(100, 3), dtype=float32).",
     "traceback": [
      "\u001b[1;31m---------------------------------------------------------------------------\u001b[0m",
      "\u001b[1;31mTypeError\u001b[0m                                 Traceback (most recent call last)",
      "\u001b[1;32m<ipython-input-2-6bca745ca4e3>\u001b[0m in \u001b[0;36m<module>\u001b[1;34m\u001b[0m\n\u001b[0;32m      7\u001b[0m \u001b[1;32mwith\u001b[0m \u001b[0mtf\u001b[0m\u001b[1;33m.\u001b[0m\u001b[0mSession\u001b[0m\u001b[1;33m(\u001b[0m\u001b[1;33m)\u001b[0m \u001b[1;32mas\u001b[0m \u001b[0msess\u001b[0m\u001b[1;33m:\u001b[0m\u001b[1;33m\u001b[0m\u001b[1;33m\u001b[0m\u001b[0m\n\u001b[0;32m      8\u001b[0m     \u001b[0msess\u001b[0m\u001b[1;33m.\u001b[0m\u001b[0mrun\u001b[0m\u001b[1;33m(\u001b[0m\u001b[0mtf\u001b[0m\u001b[1;33m.\u001b[0m\u001b[0mglobal_variables_initializer\u001b[0m\u001b[1;33m(\u001b[0m\u001b[1;33m)\u001b[0m\u001b[1;33m)\u001b[0m\u001b[1;33m\u001b[0m\u001b[1;33m\u001b[0m\u001b[0m\n\u001b[1;32m----> 9\u001b[1;33m     \u001b[0myv\u001b[0m \u001b[1;33m=\u001b[0m \u001b[0msess\u001b[0m\u001b[1;33m.\u001b[0m\u001b[0mrun\u001b[0m\u001b[1;33m(\u001b[0m\u001b[0my\u001b[0m\u001b[1;33m,\u001b[0m \u001b[0mfeed_dict\u001b[0m\u001b[1;33m=\u001b[0m\u001b[1;33m{\u001b[0m\u001b[0mx_batch\u001b[0m\u001b[1;33m:\u001b[0m \u001b[0mx\u001b[0m\u001b[1;33m}\u001b[0m\u001b[1;33m)\u001b[0m\u001b[1;33m\u001b[0m\u001b[1;33m\u001b[0m\u001b[0m\n\u001b[0m",
      "\u001b[1;32m~\\AppData\\Local\\conda\\conda\\envs\\py36\\lib\\site-packages\\tensorflow\\python\\client\\session.py\u001b[0m in \u001b[0;36mrun\u001b[1;34m(self, fetches, feed_dict, options, run_metadata)\u001b[0m\n\u001b[0;32m    927\u001b[0m     \u001b[1;32mtry\u001b[0m\u001b[1;33m:\u001b[0m\u001b[1;33m\u001b[0m\u001b[1;33m\u001b[0m\u001b[0m\n\u001b[0;32m    928\u001b[0m       result = self._run(None, fetches, feed_dict, options_ptr,\n\u001b[1;32m--> 929\u001b[1;33m                          run_metadata_ptr)\n\u001b[0m\u001b[0;32m    930\u001b[0m       \u001b[1;32mif\u001b[0m \u001b[0mrun_metadata\u001b[0m\u001b[1;33m:\u001b[0m\u001b[1;33m\u001b[0m\u001b[1;33m\u001b[0m\u001b[0m\n\u001b[0;32m    931\u001b[0m         \u001b[0mproto_data\u001b[0m \u001b[1;33m=\u001b[0m \u001b[0mtf_session\u001b[0m\u001b[1;33m.\u001b[0m\u001b[0mTF_GetBuffer\u001b[0m\u001b[1;33m(\u001b[0m\u001b[0mrun_metadata_ptr\u001b[0m\u001b[1;33m)\u001b[0m\u001b[1;33m\u001b[0m\u001b[1;33m\u001b[0m\u001b[0m\n",
      "\u001b[1;32m~\\AppData\\Local\\conda\\conda\\envs\\py36\\lib\\site-packages\\tensorflow\\python\\client\\session.py\u001b[0m in \u001b[0;36m_run\u001b[1;34m(self, handle, fetches, feed_dict, options, run_metadata)\u001b[0m\n\u001b[0;32m   1101\u001b[0m                             \u001b[1;34m'For reference, the tensor object was '\u001b[0m \u001b[1;33m+\u001b[0m\u001b[1;33m\u001b[0m\u001b[1;33m\u001b[0m\u001b[0m\n\u001b[0;32m   1102\u001b[0m                             \u001b[0mstr\u001b[0m\u001b[1;33m(\u001b[0m\u001b[0mfeed_val\u001b[0m\u001b[1;33m)\u001b[0m \u001b[1;33m+\u001b[0m \u001b[1;34m' which was passed to the '\u001b[0m\u001b[1;33m\u001b[0m\u001b[1;33m\u001b[0m\u001b[0m\n\u001b[1;32m-> 1103\u001b[1;33m                             'feed with key ' + str(feed) + '.')\n\u001b[0m\u001b[0;32m   1104\u001b[0m \u001b[1;33m\u001b[0m\u001b[0m\n\u001b[0;32m   1105\u001b[0m           \u001b[0msubfeed_dtype\u001b[0m \u001b[1;33m=\u001b[0m \u001b[0msubfeed_t\u001b[0m\u001b[1;33m.\u001b[0m\u001b[0mdtype\u001b[0m\u001b[1;33m.\u001b[0m\u001b[0mas_numpy_dtype\u001b[0m\u001b[1;33m\u001b[0m\u001b[1;33m\u001b[0m\u001b[0m\n",
      "\u001b[1;31mTypeError\u001b[0m: The value of a feed cannot be a tf.Tensor object. Acceptable feed values include Python scalars, strings, lists, numpy ndarrays, or TensorHandles. For reference, the tensor object was Tensor(\"random_normal:0\", shape=(100, 3), dtype=float32) which was passed to the feed with key Tensor(\"Placeholder:0\", shape=(100, 3), dtype=float32)."
     ],
     "output_type": "error"
    }
   ],
   "source": [
    ""
   ]
  },
  {
   "cell_type": "code",
   "execution_count": null,
   "metadata": {},
   "outputs": [],
   "source": []
  }
 ],
 "metadata": {
  "kernelspec": {
   "display_name": "Python 2",
   "language": "python",
   "name": "python2"
  },
  "language_info": {
   "codemirror_mode": {
    "name": "ipython",
    "version": 2
   },
   "file_extension": ".py",
   "mimetype": "text/x-python",
   "name": "python",
   "nbconvert_exporter": "python",
   "pygments_lexer": "ipython2",
   "version": "2.7.6"
  }
 },
 "nbformat": 4,
 "nbformat_minor": 0
}
